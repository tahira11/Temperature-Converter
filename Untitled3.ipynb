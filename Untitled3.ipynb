{
  "nbformat": 4,
  "nbformat_minor": 0,
  "metadata": {
    "colab": {
      "provenance": [],
      "authorship_tag": "ABX9TyNss+TWQa2UqpPJt6sv2lOp",
      "include_colab_link": true
    },
    "kernelspec": {
      "name": "python3",
      "display_name": "Python 3"
    },
    "language_info": {
      "name": "python"
    }
  },
  "cells": [
    {
      "cell_type": "markdown",
      "metadata": {
        "id": "view-in-github",
        "colab_type": "text"
      },
      "source": [
        "<a href=\"https://colab.research.google.com/github/tahira11/Temperature-Converter/blob/main/Untitled3.ipynb\" target=\"_parent\"><img src=\"https://colab.research.google.com/assets/colab-badge.svg\" alt=\"Open In Colab\"/></a>"
      ]
    },
    {
      "cell_type": "code",
      "execution_count": 1,
      "metadata": {
        "id": "H6kxXemqO0W4",
        "outputId": "c29ba74b-7b17-4463-a37c-d944d3a0ddf6",
        "colab": {
          "base_uri": "https://localhost:8080/",
          "height": 383
        }
      },
      "outputs": [
        {
          "output_type": "error",
          "ename": "ModuleNotFoundError",
          "evalue": "No module named 'streamlit'",
          "traceback": [
            "\u001b[0;31m---------------------------------------------------------------------------\u001b[0m",
            "\u001b[0;31mModuleNotFoundError\u001b[0m                       Traceback (most recent call last)",
            "\u001b[0;32m<ipython-input-1-e5a0197ea993>\u001b[0m in \u001b[0;36m<cell line: 1>\u001b[0;34m()\u001b[0m\n\u001b[0;32m----> 1\u001b[0;31m \u001b[0;32mimport\u001b[0m \u001b[0mstreamlit\u001b[0m \u001b[0;32mas\u001b[0m \u001b[0mst\u001b[0m\u001b[0;34m\u001b[0m\u001b[0;34m\u001b[0m\u001b[0m\n\u001b[0m\u001b[1;32m      2\u001b[0m \u001b[0;34m\u001b[0m\u001b[0m\n\u001b[1;32m      3\u001b[0m \u001b[0;31m# Function to convert temperatures\u001b[0m\u001b[0;34m\u001b[0m\u001b[0;34m\u001b[0m\u001b[0m\n\u001b[1;32m      4\u001b[0m \u001b[0;32mdef\u001b[0m \u001b[0mconvert_temperature\u001b[0m\u001b[0;34m(\u001b[0m\u001b[0mvalue\u001b[0m\u001b[0;34m,\u001b[0m \u001b[0mfrom_unit\u001b[0m\u001b[0;34m,\u001b[0m \u001b[0mto_unit\u001b[0m\u001b[0;34m)\u001b[0m\u001b[0;34m:\u001b[0m\u001b[0;34m\u001b[0m\u001b[0;34m\u001b[0m\u001b[0m\n\u001b[1;32m      5\u001b[0m     \u001b[0;32mif\u001b[0m \u001b[0mfrom_unit\u001b[0m \u001b[0;34m==\u001b[0m \u001b[0;34m'Celsius'\u001b[0m\u001b[0;34m:\u001b[0m\u001b[0;34m\u001b[0m\u001b[0;34m\u001b[0m\u001b[0m\n",
            "\u001b[0;31mModuleNotFoundError\u001b[0m: No module named 'streamlit'",
            "",
            "\u001b[0;31m---------------------------------------------------------------------------\u001b[0;32m\nNOTE: If your import is failing due to a missing package, you can\nmanually install dependencies using either !pip or !apt.\n\nTo view examples of installing some common dependencies, click the\n\"Open Examples\" button below.\n\u001b[0;31m---------------------------------------------------------------------------\u001b[0m\n"
          ],
          "errorDetails": {
            "actions": [
              {
                "action": "open_url",
                "actionText": "Open Examples",
                "url": "/notebooks/snippets/importing_libraries.ipynb"
              }
            ]
          }
        }
      ],
      "source": [
        "import streamlit as st\n",
        "\n",
        "# Function to convert temperatures\n",
        "def convert_temperature(value, from_unit, to_unit):\n",
        "    if from_unit == 'Celsius':\n",
        "        if to_unit == 'Fahrenheit':\n",
        "            return (value * 9/5) + 32\n",
        "        elif to_unit == 'Kelvin':\n",
        "            return value + 273.15\n",
        "        else:\n",
        "            return value\n",
        "    elif from_unit == 'Fahrenheit':\n",
        "        if to_unit == 'Celsius':\n",
        "            return (value - 32) * 5/9\n",
        "        elif to_unit == 'Kelvin':\n",
        "            return (value - 32) * 5/9 + 273.15\n",
        "        else:\n",
        "            return value\n",
        "    elif from_unit == 'Kelvin':\n",
        "        if to_unit == 'Celsius':\n",
        "            return value - 273.15\n",
        "        elif to_unit == 'Fahrenheit':\n",
        "            return (value - 273.15) * 9/5 + 32\n",
        "        else:\n",
        "            return value\n",
        "    else:\n",
        "        return \"Invalid unit\"\n",
        "\n",
        "# Streamlit interface\n",
        "st.title(\"🌡️ Temperature Converter\")\n",
        "\n",
        "st.write(\"Convert temperatures between Celsius, Fahrenheit, and Kelvin with ease!\")\n",
        "\n",
        "# User input\n",
        "input_temp = st.number_input(\"Enter the temperature value:\", format=\"%f\")\n",
        "from_unit = st.selectbox(\"Select the unit to convert from:\", ['Celsius', 'Fahrenheit', 'Kelvin'])\n",
        "to_unit = st.selectbox(\"Select the unit to convert to:\", ['Celsius', 'Fahrenheit', 'Kelvin'])\n",
        "\n",
        "# Conversion result\n",
        "if st.button('Convert'):\n",
        "    converted_temp = convert_temperature(input_temp, from_unit, to_unit)\n",
        "    st.success(f\"The converted temperature is {converted_temp:.2f} {to_unit}!\")\n"
      ]
    }
  ]
}